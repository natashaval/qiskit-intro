{
 "cells": [
  {
   "cell_type": "code",
   "execution_count": 1,
   "id": "f702dad5",
   "metadata": {},
   "outputs": [
    {
     "data": {
      "image/png": "[encoded data removed]",
      "text/plain": [
       "<Figure size 340.233x204.68 with 1 Axes>"
      ]
     },
     "execution_count": 1,
     "metadata": {},
     "output_type": "execute_result"
    }
   ],
   "source": [
    "from qiskit import *\n",
    "from qiskit.visualization import plot_histogram\n",
    "IBMQ.load_account()\n",
    "qr = QuantumRegister(2)\n",
    "cr = ClassicalRegister(2)\n",
    "circuit = QuantumCircuit(qr, cr)\n",
    "\n",
    "%matplotlib inline\n",
    "circuit.draw()\n",
    "circuit.h(qr[0])\n",
    "circuit.cx(qr[0], qr[1])\n",
    "\n",
    "circuit.measure(qr, cr)\n",
    "circuit.draw(output='mpl')"
   ]
  },
  {
   "cell_type": "code",
   "execution_count": 2,
   "id": "9a14a628",
   "metadata": {},
   "outputs": [
    {
     "data": {
      "image/png": "[encoded data removed]",
      "text/plain": [
       "<Figure size 504x360 with 1 Axes>"
      ]
     },
     "execution_count": 2,
     "metadata": {},
     "output_type": "execute_result"
    }
   ],
   "source": [
    "simulator = Aer.get_backend('qasm_simulator')\n",
    "result = execute(circuit, backend = simulator).result()\n",
    "plot_histogram(result.get_counts(circuit))"
   ]
  },
  {
   "cell_type": "code",
   "execution_count": 5,
   "id": "6a194faf",
   "metadata": {},
   "outputs": [
    {
     "name": "stdout",
     "output_type": "stream",
     "text": [
      "ibmq_qasm_simulator; qubits = simulated job = 3\n",
      "ibmq_armonk; qubits = 1 job = 2\n",
      "ibmq_santiago; qubits = 5 job = 313\n",
      "ibmq_bogota; qubits = 5 job = 637\n",
      "ibmq_lima; qubits = 5 job = 0\n",
      "ibmq_belem; qubits = 5 job = 0\n",
      "ibmq_quito; qubits = 5 job = 1\n",
      "simulator_statevector; qubits = simulated job = 3\n",
      "simulator_mps; qubits = simulated job = 3\n",
      "simulator_extended_stabilizer; qubits = simulated job = 3\n",
      "simulator_stabilizer; qubits = simulated job = 3\n",
      "ibmq_manila; qubits = 5 job = 103\n"
     ]
    }
   ],
   "source": [
    "provider = IBMQ.get_provider('ibm-q')\n",
    "provider.backends()\n",
    "for backend in provider.backends():\n",
    "    try:\n",
    "        qubit_count = len(backend.properties().qubits)\n",
    "    except:\n",
    "        qubit_count = \"simulated\"\n",
    "    print(f\"{backend.name()}; qubits = {qubit_count} job = {backend.status().pending_jobs}\")"
   ]
  },
  {
   "cell_type": "code",
   "execution_count": 8,
   "id": "7b046f0c",
   "metadata": {},
   "outputs": [],
   "source": [
    "#qcomp = provider.get_backend('ibmq_santiago')\n",
    "qcomp = provider.get_backend('ibmq_lima')\n",
    "job = execute(circuit, backend=qcomp)"
   ]
  },
  {
   "cell_type": "code",
   "execution_count": 9,
   "id": "d9b095a4",
   "metadata": {},
   "outputs": [
    {
     "name": "stdout",
     "output_type": "stream",
     "text": [
      "Job Status: job has successfully run\n"
     ]
    }
   ],
   "source": [
    "from qiskit.tools.monitor import job_monitor\n",
    "job_monitor(job)"
   ]
  },
  {
   "cell_type": "code",
   "execution_count": null,
   "id": "5b107e6e",
   "metadata": {},
   "outputs": [],
   "source": [
    "result = job.result()\n",
    "plot_histogram(result.get_counts(circuit))"
   ]
  },
  {
   "cell_type": "code",
   "execution_count": null,
   "id": "cf479df7",
   "metadata": {},
   "outputs": [],
   "source": []
  }
 ],
 "metadata": {
  "kernelspec": {
   "display_name": "Python 3 (ipykernel)",
   "language": "python",
   "name": "python3"
  },
  "language_info": {
   "codemirror_mode": {
    "name": "ipython",
    "version": 3
   },
   "file_extension": ".py",
   "mimetype": "text/x-python",
   "name": "python",
   "nbconvert_exporter": "python",
   "pygments_lexer": "ipython3",
   "version": "3.8.2"
  }
 },
 "nbformat": 4,
 "nbformat_minor": 5
}
