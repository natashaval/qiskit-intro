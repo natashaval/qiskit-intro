{
 "cells": [
  {
   "cell_type": "code",
   "execution_count": 1,
   "id": "ba3abcbb",
   "metadata": {},
   "outputs": [
    {
     "data": {
      "text/plain": [
       "<AccountProvider for IBMQ(hub='ibm-q', group='open', project='main')>"
      ]
     },
     "execution_count": 1,
     "metadata": {},
     "output_type": "execute_result"
    }
   ],
   "source": [
    "from qiskit import IBMQ\n",
    "\n",
    "IBMQ.load_account() # Load account from disk"
   ]
  },
  {
   "cell_type": "code",
   "execution_count": 2,
   "id": "2aa10a23",
   "metadata": {},
   "outputs": [
    {
     "data": {
      "text/plain": [
       "[<IBMQSimulator('ibmq_qasm_simulator') from IBMQ(hub='ibm-q', group='open', project='main')>,\n",
       " <IBMQBackend('ibmq_armonk') from IBMQ(hub='ibm-q', group='open', project='main')>,\n",
       " <IBMQBackend('ibmq_santiago') from IBMQ(hub='ibm-q', group='open', project='main')>,\n",
       " <IBMQBackend('ibmq_bogota') from IBMQ(hub='ibm-q', group='open', project='main')>,\n",
       " <IBMQBackend('ibmq_lima') from IBMQ(hub='ibm-q', group='open', project='main')>,\n",
       " <IBMQBackend('ibmq_belem') from IBMQ(hub='ibm-q', group='open', project='main')>,\n",
       " <IBMQBackend('ibmq_quito') from IBMQ(hub='ibm-q', group='open', project='main')>,\n",
       " <IBMQSimulator('simulator_statevector') from IBMQ(hub='ibm-q', group='open', project='main')>,\n",
       " <IBMQSimulator('simulator_mps') from IBMQ(hub='ibm-q', group='open', project='main')>,\n",
       " <IBMQSimulator('simulator_extended_stabilizer') from IBMQ(hub='ibm-q', group='open', project='main')>,\n",
       " <IBMQSimulator('simulator_stabilizer') from IBMQ(hub='ibm-q', group='open', project='main')>,\n",
       " <IBMQBackend('ibmq_manila') from IBMQ(hub='ibm-q', group='open', project='main')>]"
      ]
     },
     "execution_count": 2,
     "metadata": {},
     "output_type": "execute_result"
    }
   ],
   "source": [
    "IBMQ.providers()\n",
    "\n",
    "provider = IBMQ.get_provider('ibm-q')\n",
    "provider.backends()"
   ]
  },
  {
   "cell_type": "code",
   "execution_count": 8,
   "id": "fc124fd1",
   "metadata": {},
   "outputs": [
    {
     "name": "stdout",
     "output_type": "stream",
     "text": [
      "name: ibmq_qasm_simulator qubits = simulated job = 7\n",
      "name: ibmq_armonk qubits = 1 job = 7\n",
      "name: ibmq_santiago qubits = 5 job = 2021\n",
      "name: ibmq_bogota qubits = 5 job = 6\n",
      "name: ibmq_lima qubits = 5 job = 7\n",
      "name: ibmq_belem qubits = 5 job = 1\n",
      "name: ibmq_quito qubits = 5 job = 6\n",
      "name: simulator_statevector qubits = simulated job = 7\n",
      "name: simulator_mps qubits = simulated job = 7\n",
      "name: simulator_extended_stabilizer qubits = simulated job = 6\n",
      "name: simulator_stabilizer qubits = simulated job = 6\n",
      "name: ibmq_manila qubits = 5 job = 33\n"
     ]
    }
   ],
   "source": [
    "import qiskit.tools.jupyter\n",
    "\n",
    "for backend in provider.backends():\n",
    "    try:\n",
    "        qubit_count = len(backend.properties().qubits)\n",
    "    except:\n",
    "        qubit_count = \"simulated\"\n",
    "    print(f\"name: {backend.name()} qubits = {qubit_count} job = {backend.status().pending_jobs}\")"
   ]
  },
  {
   "cell_type": "code",
   "execution_count": 11,
   "id": "8fc21b49",
   "metadata": {},
   "outputs": [
    {
     "name": "stdout",
     "output_type": "stream",
     "text": [
      "AND gate\n"
     ]
    },
    {
     "data": {
      "image/png": "[encoded data removed]",
      "text/plain": [
       "<Figure size 146.797x204.68 with 1 Axes>"
      ]
     },
     "metadata": {},
     "output_type": "display_data"
    },
    {
     "name": "stdout",
     "output_type": "stream",
     "text": [
      "\n",
      "Transpiled AND gate with the required conectivity\n"
     ]
    },
    {
     "data": {
      "image/png": "[encoded data removed]",
      "text/plain": [
       "<Figure size 748.797x204.68 with 1 Axes>"
      ]
     },
     "execution_count": 11,
     "metadata": {},
     "output_type": "execute_result"
    }
   ],
   "source": [
    "from qiskit import *\n",
    "\n",
    "qc_and = QuantumCircuit(3)\n",
    "qc_and.ccx(0,1,2)\n",
    "print('AND gate')\n",
    "display(qc_and.draw('mpl'))\n",
    "print('\\nTranspiled AND gate with the required conectivity')\n",
    "qc_and.decompose().draw('mpl')"
   ]
  },
  {
   "cell_type": "code",
   "execution_count": 12,
   "id": "c8a6df2a",
   "metadata": {},
   "outputs": [],
   "source": [
    "from qiskit.tools.monitor import job_monitor\n",
    "\n",
    "# run the cell to define AND gate for real quantum system\n",
    "def AND(inp1, inp2, backend, layout):\n",
    "    \n",
    "    qc = QuantumCircuit(3,1)\n",
    "    qc.reset(range(3))\n",
    "    \n",
    "    if inp1 == '1':\n",
    "        qc.x(0)\n",
    "    if inp2 == '1':\n",
    "        qc.x(1)\n",
    "        \n",
    "    qc.barrier()\n",
    "    qc.ccx(0,1,2)\n",
    "    qc.barrier()\n",
    "    qc.measure(2,0)\n",
    "    \n",
    "    qc_trans = transpile(qc, backend, initial_layout = layout, optimization_level = 3)\n",
    "    job = execute(qc_trans, backend, shots=1000)\n",
    "    print(job.job_id())\n",
    "    job_monitor(job)\n",
    "    \n",
    "    output = job.result().get_counts()\n",
    "    \n",
    "    return qc_trans, output"
   ]
  },
  {
   "cell_type": "code",
   "execution_count": null,
   "id": "6f3266ed",
   "metadata": {},
   "outputs": [],
   "source": []
  }
 ],
 "metadata": {
  "kernelspec": {
   "display_name": "Python 3 (ipykernel)",
   "language": "python",
   "name": "python3"
  },
  "language_info": {
   "codemirror_mode": {
    "name": "ipython",
    "version": 3
   },
   "file_extension": ".py",
   "mimetype": "text/x-python",
   "name": "python",
   "nbconvert_exporter": "python",
   "pygments_lexer": "ipython3",
   "version": "3.9.8"
  }
 },
 "nbformat": 4,
 "nbformat_minor": 5
}
