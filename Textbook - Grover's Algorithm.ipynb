{
 "cells": [
  {
   "cell_type": "code",
   "execution_count": 1,
   "id": "894a785d",
   "metadata": {},
   "outputs": [
    {
     "data": {
      "image/png": "[encoded data removed]",
      "text/plain": [
       "<Figure size 186.168x144.48 with 1 Axes>"
      ]
     },
     "execution_count": 1,
     "metadata": {},
     "output_type": "execute_result"
    }
   ],
   "source": [
    "# https://qiskit.org/documentation/tutorials/algorithms/06_grover.html\n",
    "from qiskit import QuantumCircuit\n",
    "from qiskit.algorithms import AmplificationProblem\n",
    "\n",
    "good_state = ['11']\n",
    "oracle = QuantumCircuit(2)\n",
    "oracle.cz(0,1)\n",
    "\n",
    "problem = AmplificationProblem(oracle, is_good_state = good_state)\n",
    "problem.grover_operator.draw('mpl')"
   ]
  },
  {
   "cell_type": "code",
   "execution_count": 2,
   "id": "e1f8f80f",
   "metadata": {},
   "outputs": [
    {
     "name": "stdout",
     "output_type": "stream",
     "text": [
      "Result type:  <class 'qiskit.algorithms.amplitude_amplifiers.grover.GroverResult'>\n",
      "Success!\n",
      "Top measurement:  11\n"
     ]
    }
   ],
   "source": [
    "from qiskit import Aer\n",
    "from qiskit.utils import QuantumInstance\n",
    "from qiskit.algorithms import Grover\n",
    "\n",
    "simulator = Aer.get_backend('aer_simulator')\n",
    "grover = Grover(quantum_instance = simulator)\n",
    "result = grover.amplify(problem)\n",
    "print('Result type: ', type(result))\n",
    "print('Success!' if result.oracle_evaluation else 'Failure!')\n",
    "print('Top measurement: ', result.top_measurement)"
   ]
  },
  {
   "cell_type": "code",
   "execution_count": null,
   "id": "cc0d5d3e",
   "metadata": {},
   "outputs": [],
   "source": []
  }
 ],
 "metadata": {
  "kernelspec": {
   "display_name": "Python 3 (ipykernel)",
   "language": "python",
   "name": "python3"
  },
  "language_info": {
   "codemirror_mode": {
    "name": "ipython",
    "version": 3
   },
   "file_extension": ".py",
   "mimetype": "text/x-python",
   "name": "python",
   "nbconvert_exporter": "python",
   "pygments_lexer": "ipython3",
   "version": "3.8.2"
  }
 },
 "nbformat": 4,
 "nbformat_minor": 5
}
