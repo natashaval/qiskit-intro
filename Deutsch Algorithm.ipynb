{
 "cells": [
  {
   "cell_type": "code",
   "execution_count": 12,
   "id": "1f709fdb",
   "metadata": {},
   "outputs": [
    {
     "data": {
      "image/png": "[encoded data removed]",
      "text/plain": [
       "<Figure size 387.452x204.68 with 1 Axes>"
      ]
     },
     "execution_count": 12,
     "metadata": {},
     "output_type": "execute_result"
    }
   ],
   "source": [
    "#from qiskit import QuantumCircuit, Aer\n",
    "from qiskit import *\n",
    "from qiskit.visualization import plot_histogram\n",
    "%matplotlib inline\n",
    "\n",
    "circuit = QuantumCircuit(2,1)\n",
    "circuit.h(0)\n",
    "circuit.x(1)\n",
    "circuit.h(1)\n",
    "#circuit.barrier()\n",
    "\n",
    "# blackbox Uf function\n",
    "circuit.cx(0,1)\n",
    "#circuit.barrier()\n",
    "\n",
    "circuit.h(0)\n",
    "#circuit.barrier()\n",
    "circuit.measure(0,0)\n",
    "circuit.draw('mpl')"
   ]
  },
  {
   "cell_type": "code",
   "execution_count": 9,
   "id": "f2d0d9b3",
   "metadata": {},
   "outputs": [
    {
     "name": "stdout",
     "output_type": "stream",
     "text": [
      "{'1': 1}\n"
     ]
    }
   ],
   "source": [
    "backend = Aer.get_backend('qasm_simulator')\n",
    "result = backend.run(circuit, shots=1).result()\n",
    "counts = result.get_counts()\n",
    "print(counts)"
   ]
  },
  {
   "cell_type": "code",
   "execution_count": 10,
   "id": "f232688b",
   "metadata": {},
   "outputs": [
    {
     "name": "stderr",
     "output_type": "stream",
     "text": [
      "ibmqfactory.load_account:WARNING:2021-10-06 23:47:07,213: Credentials are already in use. The existing account in the session will be replaced.\n"
     ]
    },
    {
     "name": "stdout",
     "output_type": "stream",
     "text": [
      "ibmq_qasm_simulator; qubits = simulated job = 0\n",
      "ibmq_armonk; qubits = 1 job = 0\n",
      "ibmq_santiago; qubits = 5 job = 355\n",
      "ibmq_bogota; qubits = 5 job = 1\n",
      "ibmq_lima; qubits = 5 job = 6\n",
      "ibmq_belem; qubits = 5 job = 5\n",
      "ibmq_quito; qubits = 5 job = 2\n",
      "simulator_statevector; qubits = simulated job = 0\n",
      "simulator_mps; qubits = simulated job = 0\n",
      "simulator_extended_stabilizer; qubits = simulated job = 0\n",
      "simulator_stabilizer; qubits = simulated job = 0\n",
      "ibmq_manila; qubits = 5 job = 78\n"
     ]
    }
   ],
   "source": [
    "# Real quantum computer\n",
    "from qiskit.tools.monitor import job_monitor\n",
    "IBMQ.load_account()\n",
    "provider = IBMQ.get_provider('ibm-q')\n",
    "provider.backends()\n",
    "for backend in provider.backends():\n",
    "    try:\n",
    "        qubit_count = len(backend.properties().qubits)\n",
    "    except:\n",
    "        qubit_count = \"simulated\"\n",
    "    print(f\"{backend.name()}; qubits = {qubit_count} job = {backend.status().pending_jobs}\")\n"
   ]
  },
  {
   "cell_type": "code",
   "execution_count": 13,
   "id": "8f2c4477",
   "metadata": {},
   "outputs": [],
   "source": [
    "qcomp = provider.get_backend('ibmq_lima')\n",
    "job = execute(circuit, backend=qcomp)\n",
    "# cannot run with circuit.barrier() added"
   ]
  },
  {
   "cell_type": "code",
   "execution_count": null,
   "id": "49c373b4",
   "metadata": {},
   "outputs": [
    {
     "name": "stdout",
     "output_type": "stream",
     "text": [
      "Job Status: job is queued (3)"
     ]
    }
   ],
   "source": [
    "job_monitor(job)"
   ]
  },
  {
   "cell_type": "code",
   "execution_count": null,
   "id": "b158b62f",
   "metadata": {},
   "outputs": [],
   "source": []
  }
 ],
 "metadata": {
  "kernelspec": {
   "display_name": "Python 3 (ipykernel)",
   "language": "python",
   "name": "python3"
  },
  "language_info": {
   "codemirror_mode": {
    "name": "ipython",
    "version": 3
   },
   "file_extension": ".py",
   "mimetype": "text/x-python",
   "name": "python",
   "nbconvert_exporter": "python",
   "pygments_lexer": "ipython3",
   "version": "3.8.2"
  }
 },
 "nbformat": 4,
 "nbformat_minor": 5
}
