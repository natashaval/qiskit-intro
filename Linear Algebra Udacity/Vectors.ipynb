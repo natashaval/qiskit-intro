{
 "cells": [
  {
   "cell_type": "code",
   "execution_count": 38,
   "id": "a3fef58a",
   "metadata": {},
   "outputs": [],
   "source": [
    "class Vector(object):\n",
    "    def __init__(self, coordinates):\n",
    "        try:\n",
    "            if not coordinates:\n",
    "                raise ValueError\n",
    "            self.coordinates = tuple(coordinates)\n",
    "            self.dimension = len(coordinates)\n",
    "\n",
    "        except ValueError:\n",
    "            raise ValueError('The coordinates must be nonempty')\n",
    "\n",
    "        except TypeError:\n",
    "            raise TypeError('The coordinates must be an iterable')\n",
    "\n",
    "\n",
    "    def __str__(self):\n",
    "        return 'Vector: {}'.format(self.coordinates)\n",
    "\n",
    "\n",
    "    def __eq__(self, v):\n",
    "        return self.coordinates == v.coordinates\n",
    "    \n",
    "    def plus(self, v):\n",
    "        new_coordinates = [x+y for x,y in zip(self.coordinates, v.coordinates)]\n",
    "#         new_coordinates = []\n",
    "#         n = len(self.coordinates)\n",
    "#         for i in range(n):\n",
    "#             new_coordinates.append(self.coordinates[i] + v.coordinates[i])\n",
    "        return Vector(new_coordinates)\n",
    "    \n",
    "    def minus(self, v):\n",
    "        new_coordinates = [x-y for x,y in zip(self.coordinates, v.coordinates)]\n",
    "        return Vector(new_coordinates)\n",
    "    \n",
    "    def times_scalar(self, c):\n",
    "        new_coordinates = [c*x for x in self.coordinates]\n",
    "        return Vector(new_coordinates)\n",
    "    \n",
    "    def decimal(self, d):\n",
    "        # limit to 3 decimal places\n",
    "        # https://stackoverflow.com/a/3928647\n",
    "        new_coordinates = [round(x, d) if isinstance(x, float) else x for x in self.coordinates]\n",
    "        return Vector(new_coordinates)\n",
    "\n",
    "    def magnitude(self):\n",
    "        v_square = 0\n",
    "        for x in self.coordinates:\n",
    "            v_square += pow(x, 2)\n",
    "        return math.sqrt(v_square)\n",
    "        # coordinates_squared = [x**2 for x in self.coordinates]\n",
    "        # return sqrt(sum(coordinates_squared))\n",
    "    \n",
    "    def normalize(self):\n",
    "        try:\n",
    "            sc = 1./self.magnitude()\n",
    "            return self.times_scalar(sc)\n",
    "        except ZeroDivisionError:\n",
    "            raise Exception('Cannot normalize the zero vector')\n",
    "            \n",
    "    def dot_product(self, v):\n",
    "        new_coordinates = [x*y for x,y in zip(self.coordinates, v.coordinates)]\n",
    "        return sum(new_coordinates)\n",
    "    \n",
    "    def angle(self, v):\n",
    "        return math.acos(self.dot_product(v) / (self.magnitude() * v.magnitude()))\n",
    "    \n",
    "#     def is_parallel(self, v):\n",
    "#         div = self.coordinates[0] / v.coordinates[0]\n",
    "#         for i in range(1, len(self.coordinates)):\n",
    "#             if (div != (self.coordinates[i] / v.coordinates[i])):\n",
    "#                 return False\n",
    "#         return True\n",
    "\n",
    "    def is_parallel(self, v):\n",
    "        return (self.is_zero() or v.is_zero() or\n",
    "               self.angle(v) == 0 or self.angle(v) == math.pi)\n",
    "    \n",
    "    def is_zero(self, tolerance=1e-10):\n",
    "        # check if vector magnitude is zero\n",
    "        return self.magnitude() < tolerance\n",
    "    \n",
    "    def is_orthogonal(self, v, tolerance=1e-10):\n",
    "        # return 0 == self.dot_product(v) (yield False negative)\n",
    "        return abs(self.dot_product(v)) < tolerance"
   ]
  },
  {
   "cell_type": "code",
   "execution_count": 39,
   "id": "6443d011",
   "metadata": {},
   "outputs": [],
   "source": [
    "import math\n",
    "import numpy as np"
   ]
  },
  {
   "cell_type": "code",
   "execution_count": 3,
   "id": "30b108be",
   "metadata": {},
   "outputs": [
    {
     "name": "stdout",
     "output_type": "stream",
     "text": [
      "Vector: (1, 2, 3)\n",
      "Vector: (3, 5, 7)\n"
     ]
    }
   ],
   "source": [
    "my_vector = Vector([1,2,3])\n",
    "my_vector2 = Vector([2,3,4])\n",
    "print(my_vector)\n",
    "print(my_vector.plus(my_vector2))"
   ]
  },
  {
   "cell_type": "markdown",
   "id": "0720cc4e",
   "metadata": {},
   "source": [
    "## Operating in Vectors\n",
    "[Link](https://learn.udacity.com/courses/ud953/lessons/dc261432-62e3-4480-8f70-5f7295bf11c5/concepts/5a237c19-bd38-40bc-957a-4e0dc2a2130c)  \n",
    "Addition\n",
    "$\\begin{bmatrix} a \\\\ b \\end{bmatrix} + \\begin{bmatrix} c \\\\ d \\end{bmatrix} = \\begin{bmatrix} a+c \\\\ b+d \\end{bmatrix}$\n",
    "\n",
    "Substraction\n",
    "$\\begin{bmatrix} a \\\\ b \\end{bmatrix} - \\begin{bmatrix} c \\\\ d \\end{bmatrix} = \\begin{bmatrix} a-c \\\\ b-d \\end{bmatrix}$\n",
    "\n",
    "Scalar Multiplication\n",
    "$ x \\begin{bmatrix} a \\\\ b \\end{bmatrix} = \\begin{bmatrix} x.a \\\\ x.b \\end{bmatrix}$"
   ]
  },
  {
   "cell_type": "code",
   "execution_count": 4,
   "id": "93b96eee",
   "metadata": {},
   "outputs": [
    {
     "name": "stdout",
     "output_type": "stream",
     "text": [
      "Vector: (7.089, -7.23)\n",
      "Vector: (15.342, 7.337)\n",
      "Vector: (12.382, -7.499, -2.356)\n"
     ]
    }
   ],
   "source": [
    "vector_plus1 = Vector([8.218, -9.341])\n",
    "vector_plus2 = Vector([-1.129, 2.111])\n",
    "print(vector_plus1.plus(vector_plus2).decimal(3))\n",
    "\n",
    "vector_minus1 = Vector([7.119, 8.215])\n",
    "vector_minus2 = Vector([-8.223, 0.878])\n",
    "print(vector_minus1.minus(vector_minus2).decimal(3))\n",
    "\n",
    "scalar = 7.41\n",
    "vector_times = Vector([1.671, -1.012, -0.318])\n",
    "print(vector_times.times_scalar(scalar).decimal(3))"
   ]
  },
  {
   "cell_type": "markdown",
   "id": "add57ab0",
   "metadata": {},
   "source": [
    "## Magnitude and Direction\n",
    "[Link](https://learn.udacity.com/courses/ud953/lessons/dc261432-62e3-4480-8f70-5f7295bf11c5/concepts/5d7fc081-3aaf-4fef-8a1c-95a59cb06df9)  \n",
    "Magnitude $n$ dimension  \n",
    "$ \\vec{v} = \\begin{bmatrix} v_1 \\\\ v_2 \\\\ \\vdots \\\\ v_n \\end{bmatrix} $\n",
    "\n",
    "$ \\| \\vec{v} \\| = \\sqrt{v_1^2 + v_2^2 \\cdots + v_n^2} $  \n",
    "\n",
    "Normalization  \n",
    "$\\frac{1}{\\|\\vec{v}\\|} \\vec{v} = $ unit vector in direction of $\\vec{v}$"
   ]
  },
  {
   "cell_type": "code",
   "execution_count": 5,
   "id": "80adffc6",
   "metadata": {
    "scrolled": true
   },
   "outputs": [
    {
     "name": "stdout",
     "output_type": "stream",
     "text": [
      "7.44\n",
      "10.884\n",
      "Vector: (0.934, -0.357)\n",
      "Vector: (0.34, 0.53, -0.777)\n"
     ]
    }
   ],
   "source": [
    "v_mag1 = Vector([-0.221, 7.437])\n",
    "v_mag2 = Vector([8.813, -1.331, -6.247])\n",
    "print(round(v_mag1.magnitude(), 3))\n",
    "print(round(v_mag2.magnitude(), 3))\n",
    "\n",
    "v_norm1 = Vector([5.581, -2.136])\n",
    "v_norm2 = Vector([1.996, 3.108, -4.554])\n",
    "print(v_norm1.normalize().decimal(3))\n",
    "print(v_norm2.normalize().decimal(3))"
   ]
  },
  {
   "cell_type": "markdown",
   "id": "487b2eee",
   "metadata": {},
   "source": [
    "## Inner products\n",
    "[Link](https://learn.udacity.com/courses/ud953/lessons/dc261432-62e3-4480-8f70-5f7295bf11c5/concepts/c2ce3350-ef93-4b39-9e02-c6458bc8157b)   \n",
    "\n",
    "Dot products  \n",
    "$ \\vec{v} \\cdot \\vec{w} = \\|\\vec{v}\\| . \\|\\vec{w}\\| . cos \\theta$  \n",
    "\n",
    "$ \\vec{v} \\cdot \\vec{w} = v_1w_1 + v_2w_2 + \\cdots + v_nw_n $  \n",
    "\n",
    "Angle  \n",
    "$ \\theta = arccos\\left( \\frac{\\vec{v}\\cdot\\vec{w}}{\\|\\vec{v}\\| . \\|\\vec{w}\\|} \\right) = arccos\\left( \\frac{1}{\\|\\vec{v}\\|} \\vec{v} . \\frac{1}{\\|\\vec{w}\\|} \\vec{w} \\right)$"
   ]
  },
  {
   "cell_type": "code",
   "execution_count": 21,
   "id": "c31baa49",
   "metadata": {},
   "outputs": [
    {
     "name": "stdout",
     "output_type": "stream",
     "text": [
      "-41.382\n",
      "56.397\n",
      "3.072\n",
      "60.276\n"
     ]
    }
   ],
   "source": [
    "v_dot1 = Vector([7.887, 4.138])\n",
    "v_dot2 = Vector([-8.802, 6.776])\n",
    "print(round(v_dot1.dot_product(v_dot2), 3))\n",
    "\n",
    "v_dot3 = Vector([-5.955, -4.904, -1.874])\n",
    "v_dot4 = Vector([-4.496, -8.755, 7.103])\n",
    "print(round(v_dot3.dot_product(v_dot4), 3))\n",
    "\n",
    "v_angle1 = Vector([3.183, -7.627])\n",
    "v_angle2 = Vector([-2.668, 5.319])\n",
    "print(round(v_angle1.angle(v_angle2), 3))\n",
    "\n",
    "v_angle3 = Vector([7.35, 0.221, 5.188])\n",
    "v_angle4 = Vector([2.751, 8.259, 3.985])\n",
    "v_degree = math.degrees((v_angle3.angle(v_angle4)))\n",
    "print(round(v_degree, 3))"
   ]
  },
  {
   "cell_type": "markdown",
   "id": "e43ba670",
   "metadata": {},
   "source": [
    "## Parallel and Orthogonal Vectors\n",
    "[Link](https://learn.udacity.com/courses/ud953/lessons/dc261432-62e3-4480-8f70-5f7295bf11c5/concepts/be817cae-98ec-4125-ac9c-54de851e23fa)  \n",
    "\n",
    "Parallel  \n",
    "$\\vec{v}$ and $\\vec{w}$ are **parallel** if one is a scalar multiple of the other  \n",
    "- $\\vec{v}$ is parallel to $2\\vec{v}, \\frac{1}{2}\\vec{v}, -\\vec{v}, \\vec{O}$\n",
    "\n",
    "Orthogonal  \n",
    "$\\vec{v}$ and $\\vec{w}$ are **orthogonal** if $\\vec{v} \\cdot \\vec{w} = 0$  \n",
    "\n",
    "$\\vec{O}$ is **parallel** and **orthogonal** to all vectors, and the only vector **orthogonal** to itself"
   ]
  },
  {
   "cell_type": "code",
   "execution_count": 40,
   "id": "74ee6468",
   "metadata": {},
   "outputs": [
    {
     "name": "stdout",
     "output_type": "stream",
     "text": [
      "is parallel:  True\n",
      "is orthogonal:  False\n",
      "is parallel:  False\n",
      "is orthogonal:  False\n",
      "is parallel:  False\n",
      "is orthogonal:  True\n",
      "is parallel:  True\n",
      "is orthogonal:  True\n"
     ]
    }
   ],
   "source": [
    "pv1 = Vector([-7.579, -7.88])\n",
    "pw1 = Vector([22.737, 23.64])\n",
    "print ('is parallel: ', pv1.is_parallel(pw1))\n",
    "print ('is orthogonal: ', pv1.is_orthogonal(pw1))\n",
    "\n",
    "pv2 = Vector([-2.029, 9.97, 4.172])\n",
    "pw2 = Vector([-9.231, -6.639, -7.245])\n",
    "print ('is parallel: ', pv2.is_parallel(pw2))\n",
    "print ('is orthogonal: ', pv2.is_orthogonal(pw2))\n",
    "\n",
    "\n",
    "pv3 = Vector([-2.328, -7.284, -1.214])\n",
    "pw3 = Vector([-1.821, 1.072, -2.94])\n",
    "print ('is parallel: ', pv3.is_parallel(pw3))\n",
    "print ('is orthogonal: ', pv3.is_orthogonal(pw3))\n",
    "\n",
    "\n",
    "pv4 = Vector([2.118, 4.827])\n",
    "pw4 = Vector([0, 0])\n",
    "print ('is parallel: ', pv4.is_parallel(pw4))\n",
    "print ('is orthogonal: ', pv4.is_orthogonal(pw4))"
   ]
  },
  {
   "cell_type": "markdown",
   "id": "3f5876d7",
   "metadata": {},
   "source": [
    "## Projecting Vectors\n",
    "[Link](https://learn.udacity.com/courses/ud953/lessons/dc261432-62e3-4480-8f70-5f7295bf11c5/concepts/f1d343b5-2795-49a5-80a8-4a18c818b77c)  \n"
   ]
  }
 ],
 "metadata": {
  "kernelspec": {
   "display_name": "Python 3 (ipykernel)",
   "language": "python",
   "name": "python3"
  },
  "language_info": {
   "codemirror_mode": {
    "name": "ipython",
    "version": 3
   },
   "file_extension": ".py",
   "mimetype": "text/x-python",
   "name": "python",
   "nbconvert_exporter": "python",
   "pygments_lexer": "ipython3",
   "version": "3.9.12"
  }
 },
 "nbformat": 4,
 "nbformat_minor": 5
}
