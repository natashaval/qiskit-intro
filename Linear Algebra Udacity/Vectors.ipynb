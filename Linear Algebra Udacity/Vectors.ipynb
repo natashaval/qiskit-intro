{
 "cells": [
  {
   "cell_type": "code",
   "execution_count": 43,
   "id": "efdc01c3",
   "metadata": {},
   "outputs": [],
   "source": [
    "class Vector(object):\n",
    "    def __init__(self, coordinates):\n",
    "        try:\n",
    "            if not coordinates:\n",
    "                raise ValueError\n",
    "            self.coordinates = tuple(coordinates)\n",
    "            self.dimension = len(coordinates)\n",
    "\n",
    "        except ValueError:\n",
    "            raise ValueError('The coordinates must be nonempty')\n",
    "\n",
    "        except TypeError:\n",
    "            raise TypeError('The coordinates must be an iterable')\n",
    "\n",
    "\n",
    "    def __str__(self):\n",
    "        # limit to 3 decimal places\n",
    "        return 'Vector: {}'.format(self.coordinates)\n",
    "\n",
    "\n",
    "    def __eq__(self, v):\n",
    "        return self.coordinates == v.coordinates\n",
    "    \n",
    "    def plus(self, v):\n",
    "        new_coordinates = [x+y for x,y in zip(self.coordinates, v.coordinates)]\n",
    "#         new_coordinates = []\n",
    "#         n = len(self.coordinates)\n",
    "#         for i in range(n):\n",
    "#             new_coordinates.append(self.coordinates[i] + v.coordinates[i])\n",
    "        return Vector(new_coordinates)\n",
    "    \n",
    "    def minus(self, v):\n",
    "        new_coordinates = [x-y for x,y in zip(self.coordinates, v.coordinates)]\n",
    "        return Vector(new_coordinates)\n",
    "    \n",
    "    def times_scalar(self, c):\n",
    "        new_coordinates = [c*x for x in self.coordinates]\n",
    "        return Vector(new_coordinates)\n",
    "    \n",
    "    def decimal(self, d):\n",
    "        # https://stackoverflow.com/a/3928647\n",
    "        new_coordinates = [round(x, d) if isinstance(x, float) else x for x in self.coordinates]\n",
    "        return Vector(new_coordinates)\n"
   ]
  },
  {
   "cell_type": "code",
   "execution_count": 44,
   "id": "35583c9b",
   "metadata": {},
   "outputs": [
    {
     "name": "stdout",
     "output_type": "stream",
     "text": [
      "Vector: (1, 2, 3)\n",
      "Vector: (3, 5, 7)\n"
     ]
    }
   ],
   "source": [
    "my_vector = Vector([1,2,3])\n",
    "my_vector2 = Vector([2,3,4])\n",
    "print(my_vector)\n",
    "print(my_vector.plus(my_vector2))"
   ]
  },
  {
   "cell_type": "code",
   "execution_count": 46,
   "id": "5694df2a",
   "metadata": {},
   "outputs": [
    {
     "name": "stdout",
     "output_type": "stream",
     "text": [
      "Vector: (7.089, -7.23)\n",
      "Vector: (15.342, 7.337)\n",
      "Vector: (12.382, -7.499, -2.356)\n"
     ]
    }
   ],
   "source": [
    "vector_plus1 = Vector([8.218, -9.341])\n",
    "vector_plus2 = Vector([-1.129, 2.111])\n",
    "print(vector_plus1.plus(vector_plus2).decimal(3))\n",
    "\n",
    "vector_minus1 = Vector([7.119, 8.215])\n",
    "vector_minus2 = Vector([-8.223, 0.878])\n",
    "print(vector_minus1.minus(vector_minus2).decimal(3))\n",
    "\n",
    "scalar = 7.41\n",
    "vector_times = Vector([1.671, -1.012, -0.318])\n",
    "print(vector_times.times_scalar(scalar).decimal(3))"
   ]
  },
  {
   "cell_type": "code",
   "execution_count": 40,
   "id": "f8ef81f2",
   "metadata": {},
   "outputs": [
    {
     "name": "stdout",
     "output_type": "stream",
     "text": [
      "Vector: (7.089, -7.23)\n"
     ]
    }
   ],
   "source": []
  },
  {
   "cell_type": "code",
   "execution_count": null,
   "id": "72cd8b44",
   "metadata": {},
   "outputs": [],
   "source": []
  }
 ],
 "metadata": {
  "kernelspec": {
   "display_name": "Python 3 (ipykernel)",
   "language": "python",
   "name": "python3"
  },
  "language_info": {
   "codemirror_mode": {
    "name": "ipython",
    "version": 3
   },
   "file_extension": ".py",
   "mimetype": "text/x-python",
   "name": "python",
   "nbconvert_exporter": "python",
   "pygments_lexer": "ipython3",
   "version": "3.9.12"
  }
 },
 "nbformat": 4,
 "nbformat_minor": 5
}
