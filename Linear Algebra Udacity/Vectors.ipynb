{
 "cells": [
  {
   "cell_type": "code",
   "execution_count": 15,
   "id": "a3fef58a",
   "metadata": {},
   "outputs": [],
   "source": [
    "class Vector(object):\n",
    "    def __init__(self, coordinates):\n",
    "        try:\n",
    "            if not coordinates:\n",
    "                raise ValueError\n",
    "            self.coordinates = tuple(coordinates)\n",
    "            self.dimension = len(coordinates)\n",
    "\n",
    "        except ValueError:\n",
    "            raise ValueError('The coordinates must be nonempty')\n",
    "\n",
    "        except TypeError:\n",
    "            raise TypeError('The coordinates must be an iterable')\n",
    "\n",
    "\n",
    "    def __str__(self):\n",
    "        return 'Vector: {}'.format(self.coordinates)\n",
    "\n",
    "\n",
    "    def __eq__(self, v):\n",
    "        return self.coordinates == v.coordinates\n",
    "    \n",
    "    def plus(self, v):\n",
    "        new_coordinates = [x+y for x,y in zip(self.coordinates, v.coordinates)]\n",
    "#         new_coordinates = []\n",
    "#         n = len(self.coordinates)\n",
    "#         for i in range(n):\n",
    "#             new_coordinates.append(self.coordinates[i] + v.coordinates[i])\n",
    "        return Vector(new_coordinates)\n",
    "    \n",
    "    def minus(self, v):\n",
    "        new_coordinates = [x-y for x,y in zip(self.coordinates, v.coordinates)]\n",
    "        return Vector(new_coordinates)\n",
    "    \n",
    "    def times_scalar(self, c):\n",
    "        new_coordinates = [c*x for x in self.coordinates]\n",
    "        return Vector(new_coordinates)\n",
    "    \n",
    "    def decimal(self, d):\n",
    "        # limit to 3 decimal places\n",
    "        # https://stackoverflow.com/a/3928647\n",
    "        new_coordinates = [round(x, d) if isinstance(x, float) else x for x in self.coordinates]\n",
    "        return Vector(new_coordinates)\n",
    "\n",
    "    def magnitude(self):\n",
    "        v_square = 0\n",
    "        for x in self.coordinates:\n",
    "            v_square += pow(x, 2)\n",
    "        return math.sqrt(v_square)\n",
    "        # coordinates_squared = [x**2 for x in self.coordinates]\n",
    "        # return sqrt(sum(coordinates_squared))\n",
    "    \n",
    "    def normalize(self):\n",
    "        try:\n",
    "            sc = 1./self.magnitude()\n",
    "            return self.times_scalar(sc)\n",
    "        except ZeroDivisionError:\n",
    "            raise Exception('Cannot normalize the zero vector')\n",
    "            \n",
    "    def dot_product(self, v):\n",
    "        new_coordinates = [x+y for x,y in zip(self.coordinates, v.coordinates)]\n",
    "        return sum(new_coordinates)\n",
    "    \n",
    "    def angle(self, v):\n",
    "        return math.acos(self.dot_product(v) / (self.magnitude() * v.magnitude()))"
   ]
  },
  {
   "cell_type": "code",
   "execution_count": 2,
   "id": "6443d011",
   "metadata": {},
   "outputs": [],
   "source": [
    "import math\n",
    "import numpy as np"
   ]
  },
  {
   "cell_type": "code",
   "execution_count": 3,
   "id": "30b108be",
   "metadata": {},
   "outputs": [
    {
     "name": "stdout",
     "output_type": "stream",
     "text": [
      "Vector: (1, 2, 3)\n",
      "Vector: (3, 5, 7)\n"
     ]
    }
   ],
   "source": [
    "my_vector = Vector([1,2,3])\n",
    "my_vector2 = Vector([2,3,4])\n",
    "print(my_vector)\n",
    "print(my_vector.plus(my_vector2))"
   ]
  },
  {
   "cell_type": "markdown",
   "id": "a6bdaaa7",
   "metadata": {},
   "source": [
    "## Operating in Vectors\n",
    "[Link](https://learn.udacity.com/courses/ud953/lessons/dc261432-62e3-4480-8f70-5f7295bf11c5/concepts/5a237c19-bd38-40bc-957a-4e0dc2a2130c)  \n",
    "Addition\n",
    "$\\begin{bmatrix} a \\\\ b \\end{bmatrix} + \\begin{bmatrix} c \\\\ d \\end{bmatrix} = \\begin{bmatrix} a+c \\\\ b+d \\end{bmatrix}$\n",
    "\n",
    "Substraction\n",
    "$\\begin{bmatrix} a \\\\ b \\end{bmatrix} - \\begin{bmatrix} c \\\\ d \\end{bmatrix} = \\begin{bmatrix} a-c \\\\ b-d \\end{bmatrix}$\n",
    "\n",
    "Scalar Multiplication\n",
    "$ x \\begin{bmatrix} a \\\\ b \\end{bmatrix} = \\begin{bmatrix} x.a \\\\ x.b \\end{bmatrix}$"
   ]
  },
  {
   "cell_type": "code",
   "execution_count": 4,
   "id": "93b96eee",
   "metadata": {},
   "outputs": [
    {
     "name": "stdout",
     "output_type": "stream",
     "text": [
      "Vector: (7.089, -7.23)\n",
      "Vector: (15.342, 7.337)\n",
      "Vector: (12.382, -7.499, -2.356)\n"
     ]
    }
   ],
   "source": [
    "vector_plus1 = Vector([8.218, -9.341])\n",
    "vector_plus2 = Vector([-1.129, 2.111])\n",
    "print(vector_plus1.plus(vector_plus2).decimal(3))\n",
    "\n",
    "vector_minus1 = Vector([7.119, 8.215])\n",
    "vector_minus2 = Vector([-8.223, 0.878])\n",
    "print(vector_minus1.minus(vector_minus2).decimal(3))\n",
    "\n",
    "scalar = 7.41\n",
    "vector_times = Vector([1.671, -1.012, -0.318])\n",
    "print(vector_times.times_scalar(scalar).decimal(3))"
   ]
  },
  {
   "cell_type": "markdown",
   "id": "8d6e1e83",
   "metadata": {},
   "source": [
    "## Magnitude and Direction\n",
    "[Link](https://learn.udacity.com/courses/ud953/lessons/dc261432-62e3-4480-8f70-5f7295bf11c5/concepts/5d7fc081-3aaf-4fef-8a1c-95a59cb06df9)  \n",
    "Magnitude $n$ dimension  \n",
    "$ \\vec{v} = \\begin{bmatrix} v_1 \\\\ v_2 \\\\ \\vdots \\\\ v_n \\end{bmatrix} $\n",
    "\n",
    "$ \\| \\vec{v} \\| = \\sqrt{v_1^2 + v_2^2 \\cdots + v_n^2} $  \n",
    "\n",
    "Normalization  \n",
    "$\\frac{1}{\\|\\vec{v}\\|} \\vec{v} = $ unit vector in direction of $\\vec{v}$"
   ]
  },
  {
   "cell_type": "code",
   "execution_count": 5,
   "id": "80adffc6",
   "metadata": {
    "scrolled": true
   },
   "outputs": [
    {
     "name": "stdout",
     "output_type": "stream",
     "text": [
      "7.44\n",
      "10.884\n",
      "Vector: (0.934, -0.357)\n",
      "Vector: (0.34, 0.53, -0.777)\n"
     ]
    }
   ],
   "source": [
    "v_mag1 = Vector([-0.221, 7.437])\n",
    "v_mag2 = Vector([8.813, -1.331, -6.247])\n",
    "print(round(v_mag1.magnitude(), 3))\n",
    "print(round(v_mag2.magnitude(), 3))\n",
    "\n",
    "v_norm1 = Vector([5.581, -2.136])\n",
    "v_norm2 = Vector([1.996, 3.108, -4.554])\n",
    "print(v_norm1.normalize().decimal(3))\n",
    "print(v_norm2.normalize().decimal(3))"
   ]
  },
  {
   "cell_type": "markdown",
   "id": "85d56ac9",
   "metadata": {},
   "source": [
    "## Inner products\n",
    "[Link](https://learn.udacity.com/courses/ud953/lessons/dc261432-62e3-4480-8f70-5f7295bf11c5/concepts/c2ce3350-ef93-4b39-9e02-c6458bc8157b)   \n",
    "\n",
    "Dot products  \n",
    "$ \\vec{v} \\cdot \\vec{w} = \\|\\vec{v}\\| . \\|\\vec{w}\\| . cos \\theta$  \n",
    "\n",
    "$ \\vec{v} \\cdot \\vec{w} = v_1w_1 + v_2w_2 + \\cdots + v_nw_n $  \n",
    "\n",
    "Angle  \n",
    "$ \\theta = arccos\\left( \\frac{\\vec{v}\\cdot\\vec{w}}{\\|\\vec{v}\\| . \\|\\vec{w}\\|} \\right) = arccos\\left( \\frac{1}{\\|\\vec{v}\\|} \\vec{v} . \\frac{1}{\\|\\vec{w}\\|} \\vec{w} \\right)$"
   ]
  },
  {
   "cell_type": "code",
   "execution_count": 17,
   "id": "c31baa49",
   "metadata": {},
   "outputs": [
    {
     "name": "stdout",
     "output_type": "stream",
     "text": [
      "9.999\n",
      "-18.881\n",
      "1.607\n"
     ]
    }
   ],
   "source": [
    "v_dot1 = Vector([7.887, 4.138])\n",
    "v_dot2 = Vector([-8.802, 6.776])\n",
    "print(round(v_dot1.dot_product(v_dot2), 3))\n",
    "\n",
    "v_dot3 = Vector([-5.955, -4.904, -1.874])\n",
    "v_dot4 = Vector([-4.496, -8.755, 7.103])\n",
    "print(round(v_dot3.dot_product(v_dot4), 3))\n",
    "\n",
    "v_angle1 = Vector([3.183, -7.627])\n",
    "v_angle2 = Vector([-2.668, 5.319])\n",
    "print(round(v_angle1.angle(v_angle2), 3))\n",
    "\n",
    "v_angle3 = Vector([7.35, 0.221, 5.188])\n",
    "v_angle4 = Vector([2.751, 8.259, 3.985])\n",
    "v_degree = math.degrees(())"
   ]
  },
  {
   "cell_type": "code",
   "execution_count": null,
   "id": "e8369b97",
   "metadata": {},
   "outputs": [],
   "source": []
  }
 ],
 "metadata": {
  "kernelspec": {
   "display_name": "Python 3 (ipykernel)",
   "language": "python",
   "name": "python3"
  },
  "language_info": {
   "codemirror_mode": {
    "name": "ipython",
    "version": 3
   },
   "file_extension": ".py",
   "mimetype": "text/x-python",
   "name": "python",
   "nbconvert_exporter": "python",
   "pygments_lexer": "ipython3",
   "version": "3.9.12"
  }
 },
 "nbformat": 4,
 "nbformat_minor": 5
}
