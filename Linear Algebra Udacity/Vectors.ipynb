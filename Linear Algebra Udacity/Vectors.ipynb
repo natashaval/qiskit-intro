{
 "cells": [
  {
   "cell_type": "code",
   "execution_count": 7,
   "id": "a3fef58a",
   "metadata": {},
   "outputs": [],
   "source": [
    "class Vector(object):\n",
    "    def __init__(self, coordinates):\n",
    "        try:\n",
    "            if not coordinates:\n",
    "                raise ValueError\n",
    "            self.coordinates = tuple(coordinates)\n",
    "            self.dimension = len(coordinates)\n",
    "\n",
    "        except ValueError:\n",
    "            raise ValueError('The coordinates must be nonempty')\n",
    "\n",
    "        except TypeError:\n",
    "            raise TypeError('The coordinates must be an iterable')\n",
    "\n",
    "\n",
    "    def __str__(self):\n",
    "        return 'Vector: {}'.format(self.coordinates)\n",
    "\n",
    "\n",
    "    def __eq__(self, v):\n",
    "        return self.coordinates == v.coordinates\n",
    "    \n",
    "    def plus(self, v):\n",
    "        new_coordinates = [x+y for x,y in zip(self.coordinates, v.coordinates)]\n",
    "#         new_coordinates = []\n",
    "#         n = len(self.coordinates)\n",
    "#         for i in range(n):\n",
    "#             new_coordinates.append(self.coordinates[i] + v.coordinates[i])\n",
    "        return Vector(new_coordinates)\n",
    "    \n",
    "    def minus(self, v):\n",
    "        new_coordinates = [x-y for x,y in zip(self.coordinates, v.coordinates)]\n",
    "        return Vector(new_coordinates)\n",
    "    \n",
    "    def times_scalar(self, c):\n",
    "        new_coordinates = [c*x for x in self.coordinates]\n",
    "        return Vector(new_coordinates)\n",
    "    \n",
    "    def decimal(self, d):\n",
    "        # limit to 3 decimal places\n",
    "        # https://stackoverflow.com/a/3928647\n",
    "        new_coordinates = [round(x, d) if isinstance(x, float) else x for x in self.coordinates]\n",
    "        return Vector(new_coordinates)\n",
    "\n",
    "    def magnitude(self):\n",
    "        v_square = 0\n",
    "        for x in self.coordinates:\n",
    "            v_square += pow(x, 2)\n",
    "        return math.sqrt(v_square)\n",
    "        # coordinates_squared = [x**2 for x in self.coordinates]\n",
    "        # return sqrt(sum(coordinates_squared))\n",
    "    \n",
    "    def normalize(self):\n",
    "        try:\n",
    "            sc = 1./self.magnitude()\n",
    "            return self.times_scalar(sc)\n",
    "        except ZeroDivisionError:\n",
    "            raise Exception('Cannot normalize the zero vector')"
   ]
  },
  {
   "cell_type": "code",
   "execution_count": 2,
   "id": "6443d011",
   "metadata": {},
   "outputs": [],
   "source": [
    "import math\n",
    "import numpy as np"
   ]
  },
  {
   "cell_type": "code",
   "execution_count": 3,
   "id": "30b108be",
   "metadata": {},
   "outputs": [
    {
     "name": "stdout",
     "output_type": "stream",
     "text": [
      "Vector: (1, 2, 3)\n",
      "Vector: (3, 5, 7)\n"
     ]
    }
   ],
   "source": [
    "my_vector = Vector([1,2,3])\n",
    "my_vector2 = Vector([2,3,4])\n",
    "print(my_vector)\n",
    "print(my_vector.plus(my_vector2))"
   ]
  },
  {
   "cell_type": "markdown",
   "id": "817065b7",
   "metadata": {},
   "source": [
    "## Operating in Vectors\n",
    "[Link](https://learn.udacity.com/courses/ud953/lessons/dc261432-62e3-4480-8f70-5f7295bf11c5/concepts/5a237c19-bd38-40bc-957a-4e0dc2a2130c)  \n",
    "Addition\n",
    "$\\begin{bmatrix} a \\\\ b \\end{bmatrix} + \\begin{bmatrix} c \\\\ d \\end{bmatrix} = \\begin{bmatrix} a+c \\\\ b+d \\end{bmatrix}$\n",
    "\n",
    "Substraction\n",
    "$\\begin{bmatrix} a \\\\ b \\end{bmatrix} - \\begin{bmatrix} c \\\\ d \\end{bmatrix} = \\begin{bmatrix} a-c \\\\ b-d \\end{bmatrix}$\n",
    "\n",
    "Scalar Multiplication\n",
    "$ x \\begin{bmatrix} a \\\\ b \\end{bmatrix} = \\begin{bmatrix} x.a \\\\ x.b \\end{bmatrix}$"
   ]
  },
  {
   "cell_type": "code",
   "execution_count": 4,
   "id": "93b96eee",
   "metadata": {},
   "outputs": [
    {
     "name": "stdout",
     "output_type": "stream",
     "text": [
      "Vector: (7.089, -7.23)\n",
      "Vector: (15.342, 7.337)\n",
      "Vector: (12.382, -7.499, -2.356)\n"
     ]
    }
   ],
   "source": [
    "vector_plus1 = Vector([8.218, -9.341])\n",
    "vector_plus2 = Vector([-1.129, 2.111])\n",
    "print(vector_plus1.plus(vector_plus2).decimal(3))\n",
    "\n",
    "vector_minus1 = Vector([7.119, 8.215])\n",
    "vector_minus2 = Vector([-8.223, 0.878])\n",
    "print(vector_minus1.minus(vector_minus2).decimal(3))\n",
    "\n",
    "scalar = 7.41\n",
    "vector_times = Vector([1.671, -1.012, -0.318])\n",
    "print(vector_times.times_scalar(scalar).decimal(3))"
   ]
  },
  {
   "cell_type": "markdown",
   "id": "20275823",
   "metadata": {},
   "source": [
    "## Magnitude and Direction\n",
    "[Link](https://learn.udacity.com/courses/ud953/lessons/dc261432-62e3-4480-8f70-5f7295bf11c5/concepts/5d7fc081-3aaf-4fef-8a1c-95a59cb06df9)  \n",
    "Magnitude $n$ dimension  \n",
    "$ \\vec{v} = \\begin{bmatrix} v_1 \\\\ v_2 \\\\ \\vdots \\\\ v_n \\end{bmatrix} $\n",
    "\n",
    "$ \\begin{Vmatrix} \\vec{v} \\end{Vmatrix} = \\sqrt{v_1^2 + v_2^2 \\cdots + v_n^2} $  \n",
    "\n",
    "Normalization  \n",
    "$\\frac{1}{\\begin{Vmatrix}\\vec{v}\\end{Vmatrix}} \\vec{v} = $ unit vector in direction of $\\vec{v}$"
   ]
  },
  {
   "cell_type": "code",
   "execution_count": 5,
   "id": "80adffc6",
   "metadata": {},
   "outputs": [
    {
     "name": "stdout",
     "output_type": "stream",
     "text": [
      "7.44\n",
      "10.884\n"
     ]
    }
   ],
   "source": [
    "v_mag1 = Vector([-0.221, 7.437])\n",
    "v_mag2 = Vector([8.813, -1.331, -6.247])\n",
    "print(round(v_mag1.magnitude(), 3))\n",
    "print(round(v_mag2.magnitude(), 3))"
   ]
  },
  {
   "cell_type": "code",
   "execution_count": 8,
   "id": "e19c0292",
   "metadata": {},
   "outputs": [
    {
     "name": "stdout",
     "output_type": "stream",
     "text": [
      "Vector: (0.934, -0.357)\n",
      "Vector: (0.34, 0.53, -0.777)\n"
     ]
    }
   ],
   "source": [
    "v_norm1 = Vector([5.581, -2.136])\n",
    "v_norm2 = Vector([1.996, 3.108, -4.554])\n",
    "print(v_norm1.normalize().decimal(3))\n",
    "print(v_norm2.normalize().decimal(3))"
   ]
  },
  {
   "cell_type": "code",
   "execution_count": null,
   "id": "c31baa49",
   "metadata": {},
   "outputs": [],
   "source": []
  }
 ],
 "metadata": {
  "kernelspec": {
   "display_name": "Python 3 (ipykernel)",
   "language": "python",
   "name": "python3"
  },
  "language_info": {
   "codemirror_mode": {
    "name": "ipython",
    "version": 3
   },
   "file_extension": ".py",
   "mimetype": "text/x-python",
   "name": "python",
   "nbconvert_exporter": "python",
   "pygments_lexer": "ipython3",
   "version": "3.9.12"
  }
 },
 "nbformat": 4,
 "nbformat_minor": 5
}
